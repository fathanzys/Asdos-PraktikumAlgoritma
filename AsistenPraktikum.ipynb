{
  "nbformat": 4,
  "nbformat_minor": 0,
  "metadata": {
    "colab": {
      "provenance": [],
      "include_colab_link": true
    },
    "kernelspec": {
      "name": "python3",
      "display_name": "Python 3"
    },
    "language_info": {
      "name": "python"
    }
  },
  "cells": [
    {
      "cell_type": "markdown",
      "metadata": {
        "id": "view-in-github",
        "colab_type": "text"
      },
      "source": [
        "<a href=\"https://colab.research.google.com/github/fathanzys/Asdos-PraktikumAlgoritma/blob/main/AsistenPraktikum.ipynb\" target=\"_parent\"><img src=\"https://colab.research.google.com/assets/colab-badge.svg\" alt=\"Open In Colab\"/></a>"
      ]
    },
    {
      "cell_type": "markdown",
      "source": [
        "#OPERATOR"
      ],
      "metadata": {
        "id": "EcZ03vKALQwh"
      }
    },
    {
      "cell_type": "code",
      "source": [
        "penambahan = 10 + 2\n",
        "print(penambahan)"
      ],
      "metadata": {
        "id": "VcpDjbViBz78",
        "colab": {
          "base_uri": "https://localhost:8080/"
        },
        "outputId": "70ed174b-e844-48b7-dc55-347a31a476e9"
      },
      "execution_count": null,
      "outputs": [
        {
          "output_type": "stream",
          "name": "stdout",
          "text": [
            "12\n"
          ]
        }
      ]
    },
    {
      "cell_type": "code",
      "source": [
        "pengurangan = 20 - 3\n",
        "print(pengurangan)"
      ],
      "metadata": {
        "id": "xdprAuU7K_2G",
        "collapsed": true,
        "colab": {
          "base_uri": "https://localhost:8080/"
        },
        "outputId": "ffdfff44-bfef-423d-b82b-0cf79b10ce58"
      },
      "execution_count": null,
      "outputs": [
        {
          "output_type": "stream",
          "name": "stdout",
          "text": [
            "17\n"
          ]
        }
      ]
    },
    {
      "cell_type": "code",
      "source": [
        "perkalian = 10 * 40\n",
        "print(perkalian)"
      ],
      "metadata": {
        "id": "Pb2ezaS1LD3N",
        "colab": {
          "base_uri": "https://localhost:8080/"
        },
        "outputId": "8b5c1401-bb9e-4f5c-8ff0-2925c6a7999c"
      },
      "execution_count": null,
      "outputs": [
        {
          "output_type": "stream",
          "name": "stdout",
          "text": [
            "400\n"
          ]
        }
      ]
    },
    {
      "cell_type": "code",
      "source": [
        "pembagian = 30 / 2\n",
        "print(pembagian)"
      ],
      "metadata": {
        "id": "Bv5MRUroLHvo",
        "colab": {
          "base_uri": "https://localhost:8080/"
        },
        "outputId": "38fd0034-a709-4baf-9cd5-78429f238500"
      },
      "execution_count": null,
      "outputs": [
        {
          "output_type": "stream",
          "name": "stdout",
          "text": [
            "15.0\n"
          ]
        }
      ]
    },
    {
      "cell_type": "code",
      "source": [
        "lebihkecil = 10 < 1\n",
        "print(lebihkecil)"
      ],
      "metadata": {
        "id": "nJt28PKXLb_9",
        "colab": {
          "base_uri": "https://localhost:8080/"
        },
        "outputId": "3f2beb12-75c6-41ec-ef92-f1b68ad828cf"
      },
      "execution_count": null,
      "outputs": [
        {
          "output_type": "stream",
          "name": "stdout",
          "text": [
            "False\n"
          ]
        }
      ]
    },
    {
      "cell_type": "code",
      "source": [
        "lebihbesar = 10 > 1\n",
        "print(lebihbesar)"
      ],
      "metadata": {
        "id": "NAZQz7qJL6Hg",
        "colab": {
          "base_uri": "https://localhost:8080/"
        },
        "outputId": "294d020b-7235-4c6d-f67b-8c6074df27be"
      },
      "execution_count": null,
      "outputs": [
        {
          "output_type": "stream",
          "name": "stdout",
          "text": [
            "True\n"
          ]
        }
      ]
    },
    {
      "cell_type": "code",
      "source": [
        "sama = 10 == 10\n",
        "print(sama)"
      ],
      "metadata": {
        "id": "nALrP9ReL-oM",
        "colab": {
          "base_uri": "https://localhost:8080/"
        },
        "outputId": "70b26cdf-cb16-4e07-f324-ebcfea3e1ef1"
      },
      "execution_count": null,
      "outputs": [
        {
          "output_type": "stream",
          "name": "stdout",
          "text": [
            "True\n"
          ]
        }
      ]
    },
    {
      "cell_type": "code",
      "source": [
        "pemangkatan = 20 ** 2\n",
        "print(pemangkatan)"
      ],
      "metadata": {
        "id": "lniIJMHEMDrt",
        "colab": {
          "base_uri": "https://localhost:8080/"
        },
        "outputId": "88cd4070-f0d9-4ff5-adb2-f689c7af2673"
      },
      "execution_count": null,
      "outputs": [
        {
          "output_type": "stream",
          "name": "stdout",
          "text": [
            "400\n"
          ]
        }
      ]
    },
    {
      "cell_type": "code",
      "source": [
        "akar = 10 // 2\n",
        "print(akar)"
      ],
      "metadata": {
        "id": "hAWctcthoI9R",
        "colab": {
          "base_uri": "https://localhost:8080/"
        },
        "outputId": "c96489a9-e9e0-440c-8804-9ea130f5554d"
      },
      "execution_count": null,
      "outputs": [
        {
          "output_type": "stream",
          "name": "stdout",
          "text": [
            "5\n"
          ]
        }
      ]
    },
    {
      "cell_type": "markdown",
      "source": [
        "#VARIABEL"
      ],
      "metadata": {
        "id": "DUA4D4XtMjMs"
      }
    },
    {
      "cell_type": "code",
      "source": [
        "23_tes = 12 - 10\n",
        "print(23_tes)"
      ],
      "metadata": {
        "colab": {
          "base_uri": "https://localhost:8080/",
          "height": 106
        },
        "id": "QAk_zpCGLMv7",
        "outputId": "9d7ce620-ea84-4b6e-e165-63c20d8d041f"
      },
      "execution_count": null,
      "outputs": [
        {
          "output_type": "error",
          "ename": "SyntaxError",
          "evalue": "invalid decimal literal (<ipython-input-10-c2274abe619b>, line 1)",
          "traceback": [
            "\u001b[0;36m  File \u001b[0;32m\"<ipython-input-10-c2274abe619b>\"\u001b[0;36m, line \u001b[0;32m1\u001b[0m\n\u001b[0;31m    23_tes = 12 - 10\u001b[0m\n\u001b[0m      ^\u001b[0m\n\u001b[0;31mSyntaxError\u001b[0m\u001b[0;31m:\u001b[0m invalid decimal literal\n"
          ]
        }
      ]
    },
    {
      "cell_type": "code",
      "source": [
        "aku_mau_uji_coba_123 = 12 - 10\n",
        "print(aku_mau_uji_coba_123)"
      ],
      "metadata": {
        "id": "i4imsIylM3-9"
      },
      "execution_count": null,
      "outputs": []
    },
    {
      "cell_type": "code",
      "source": [
        "_akucoba = 12 - 12\n",
        "print(_akucoba)"
      ],
      "metadata": {
        "id": "P9hzroqGNAMz"
      },
      "execution_count": null,
      "outputs": []
    },
    {
      "cell_type": "code",
      "source": [
        "TesOmbak = 12 - 5\n",
        "print(tesOmbak)"
      ],
      "metadata": {
        "id": "v_gOgvEcNIqW",
        "colab": {
          "base_uri": "https://localhost:8080/",
          "height": 159
        },
        "outputId": "dc9acdb8-3c0c-4dc2-dfbe-7dae4d1adf34"
      },
      "execution_count": null,
      "outputs": [
        {
          "output_type": "error",
          "ename": "NameError",
          "evalue": "name 'tesOmbak' is not defined",
          "traceback": [
            "\u001b[0;31m---------------------------------------------------------------------------\u001b[0m",
            "\u001b[0;31mNameError\u001b[0m                                 Traceback (most recent call last)",
            "\u001b[0;32m<ipython-input-1-bb11b1766c27>\u001b[0m in \u001b[0;36m<cell line: 0>\u001b[0;34m()\u001b[0m\n\u001b[1;32m      1\u001b[0m \u001b[0mTesOmbak\u001b[0m \u001b[0;34m=\u001b[0m \u001b[0;36m12\u001b[0m \u001b[0;34m-\u001b[0m \u001b[0;36m5\u001b[0m\u001b[0;34m\u001b[0m\u001b[0;34m\u001b[0m\u001b[0m\n\u001b[0;32m----> 2\u001b[0;31m \u001b[0mprint\u001b[0m\u001b[0;34m(\u001b[0m\u001b[0mtesOmbak\u001b[0m\u001b[0;34m)\u001b[0m\u001b[0;34m\u001b[0m\u001b[0;34m\u001b[0m\u001b[0m\n\u001b[0m",
            "\u001b[0;31mNameError\u001b[0m: name 'tesOmbak' is not defined"
          ]
        }
      ]
    },
    {
      "cell_type": "code",
      "source": [],
      "metadata": {
        "id": "i1R6RmNFRxHJ"
      },
      "execution_count": null,
      "outputs": []
    },
    {
      "cell_type": "markdown",
      "source": [
        "#Lab 2 Nametag"
      ],
      "metadata": {
        "id": "UHo_O_9J3osi"
      }
    },
    {
      "cell_type": "code",
      "source": [
        "import math  # Import modul math untuk menggunakan fungsi matematika seperti pembulatan ke atas (ceil)\n",
        "\n",
        "# Input dari pengguna\n",
        "nama = input(\"Masukkan Nama Kamu: \")  # Meminta nama pengguna\n",
        "a = float(input(\"Masukkan Panjang Persegi Nametag: \"))  # Panjang sisi persegi (juga digunakan di bagian lain)\n",
        "b = float(input(\"Masukkan Panjang Trapesium Nametag: \"))  # Panjang sisi atas trapesium\n",
        "c = float(input(\"Masukkan Banyak Nametag: \"))  # Jumlah nametag yang ingin dibuat\n",
        "\n",
        "r = a / 2  # r adalah jari-jari setengah lingkaran yang diasumsikan menempel di nametag\n",
        "\n",
        "# Menghitung luas berbagai bentuk yang menjadi bagian dari 1 nametag\n",
        "luas_stngh_lingkaran = 0.5 * 22/7 * r ** 2  # Luas setengah lingkaran\n",
        "luas_persegi = a * a  # Luas persegi\n",
        "luas_sgitiga = 0.5 * a * a  # Luas segitiga siku-siku (asumsi alas dan tinggi = a)\n",
        "luas_trapesium = 0.5 * ((a + b) * a)  # Luas trapesium dengan tinggi = a dan sisi sejajar = a dan b\n",
        "\n",
        "# Menjumlahkan luas total dari satu nametag\n",
        "luas_stu_nametag = luas_stngh_lingkaran + luas_persegi + luas_sgitiga + luas_trapesium\n",
        "luas_stu_nametag = round(luas_stu_nametag, 2)  # Membulatkan luas satu nametag ke 2 angka di belakang koma\n",
        "\n",
        "# Menghitung luas total seluruh nametag\n",
        "luas_total_nametag = c * luas_stu_nametag\n",
        "luas_total_nametag = round(luas_total_nametag, 2)  # Membulatkan ke 2 angka di belakang koma\n",
        "\n",
        "# Menghitung total biaya berdasarkan luas (Rp 0.40 per cm2)\n",
        "bayarnya = luas_total_nametag * 0.40\n",
        "bayarnya = math.ceil(bayarnya / 1000) * 1000  # Membulatkan ke atas ke kelipatan 1000 (misal 6200 -> 7000)\n",
        "\n",
        "# Output hasil perhitungan\n",
        "print(\"Assalamualaikum!!\", nama, \"informasi nametag kamu nih: \")\n",
        "print(\"Luas Satu Nametag: \", luas_stu_nametag, \"cm\")\n",
        "print(\"Luas Total Nametag: \", luas_total_nametag, \"cm\")\n",
        "print(\"Total Harga: Rp\", bayarnya)\n"
      ],
      "metadata": {
        "id": "9ZrjmCfeK604",
        "colab": {
          "base_uri": "https://localhost:8080/"
        },
        "outputId": "597af65d-3d7a-4ad3-fd3c-a90a1125bc95"
      },
      "execution_count": null,
      "outputs": [
        {
          "output_type": "stream",
          "name": "stdout",
          "text": [
            "Masukkan Nama Kamu: Fathan\n",
            "Masukkan Panjang Persegi Nametag: 10.5\n",
            "Masukkan Panjang Trapesium Nametag: 15\n",
            "Masukkan Banyak Nametag: 5\n",
            "Assalamualaikum!! Fathan informasi nametag kamu nih: \n",
            "Luas Satu Nametag:  342.56 cm\n",
            "Luas Total Nametag:  1712.8 cm\n",
            "Total Harga: Rp 1000\n"
          ]
        }
      ]
    },
    {
      "cell_type": "markdown",
      "source": [
        "#Lab 3 Rumah"
      ],
      "metadata": {
        "id": "3a0IP6rP314A"
      }
    },
    {
      "cell_type": "code",
      "execution_count": null,
      "metadata": {
        "id": "L_-pkqTEk0og"
      },
      "outputs": [],
      "source": [
        "# Input\n",
        "input_user = input(\"Masukkan harga rumah: Rp\")  # Meminta input harga rumah dari user dalam bentuk string\n",
        "harga_rumah = int(input_user)  # Mengubah input string menjadi integer agar bisa dihitung\n",
        "\n",
        "# Variabel penghasilan per hari\n",
        "penghasilan_per_hari = 500_000  # Mengasumsikan penghasilan per hari adalah Rp500.000\n",
        "\n",
        "# Menghitung total hari yang dibutuhkan untuk mencapai harga rumah\n",
        "total_hari = harga_rumah // penghasilan_per_hari  # Menggunakan floor division untuk mendapatkan jumlah hari\n",
        "\n",
        "# Mengubah total hari menjadi tahun, bulan, minggu, dan hari\n",
        "\n",
        "# 1 tahun diasumsikan 12 bulan, 1 bulan = 4 minggu, 1 minggu = 7 hari => 1 tahun = 336 hari\n",
        "tahun = total_hari // (12 * 4 * 7)  # Menghitung berapa tahun dari total hari\n",
        "sisa_hari = total_hari % (12 * 4 * 7)  # Sisa hari setelah dikurangi tahun\n",
        "\n",
        "bulan = sisa_hari // (4 * 7)  # Menghitung berapa bulan dari sisa hari\n",
        "sisa_hari = sisa_hari % (4 * 7)  # Sisa hari setelah dikurangi bulan\n",
        "\n",
        "minggu = sisa_hari // 7  # Menghitung berapa minggu dari sisa hari\n",
        "hari = sisa_hari % 7  # Sisa hari yang tidak mencapai 1 minggu\n",
        "\n",
        "# Output\n",
        "print(f\"Kamu harus berjualan gorengan selama {tahun} tahun {bulan} bulan {minggu} minggu {hari} hari untuk dapat membeli rumah seharga Rp{harga_rumah}\")\n",
        "# Menampilkan hasil dalam format yang enak dibaca, menyebutkan total waktu yang dibutuhkan"
      ]
    },
    {
      "cell_type": "markdown",
      "source": [
        "#LAB 3 CONDITIONAL"
      ],
      "metadata": {
        "id": "Pjgs39PB5UsV"
      }
    },
    {
      "cell_type": "markdown",
      "source": [
        "Cek Password, Conditional"
      ],
      "metadata": {
        "id": "7gK0N8Bc6WfQ"
      }
    },
    {
      "cell_type": "code",
      "source": [
        "password_benar = \"Admin123\"\n",
        "password_input = input(\"Masukin PW nya: \")\n",
        "\n",
        "if password_input == password_benar:\n",
        "    print(\"OK, Pw Benar\")\n",
        "else:\n",
        "    print(\"Password Salah\")"
      ],
      "metadata": {
        "colab": {
          "base_uri": "https://localhost:8080/"
        },
        "id": "crbcWVog5Xl0",
        "outputId": "bf3c2f38-b1be-4fb3-f0f2-649ab35261d8"
      },
      "execution_count": null,
      "outputs": [
        {
          "output_type": "stream",
          "name": "stdout",
          "text": [
            "Masukin PW nya: 12\n",
            "Password Salah\n"
          ]
        }
      ]
    },
    {
      "cell_type": "markdown",
      "source": [
        "Rentang penilaian"
      ],
      "metadata": {
        "id": "V9cDJdu97603"
      }
    },
    {
      "cell_type": "code",
      "source": [
        "nilai = int(input(\"Masukkan Nilai ini ya dari skala (1-100): \"))\n",
        "\n",
        "if 90 <= nilai <= 100:\n",
        "    print(\"A\")\n",
        "elif 75 <= nilai < 89:\n",
        "    print(\"B\")\n",
        "elif 55 <= nilai < 74:\n",
        "    print(\"C\")\n",
        "elif 0 <= nilai < 54:\n",
        "    print(\"D\")\n",
        "else:\n",
        "  print(\"Nilai tidak valid, nilai yang benar adalah 1-100\")"
      ],
      "metadata": {
        "colab": {
          "base_uri": "https://localhost:8080/"
        },
        "id": "ihjqWhf26dFD",
        "outputId": "b3b7cb6b-c520-4f04-8e6b-a521c620e3e7"
      },
      "execution_count": null,
      "outputs": [
        {
          "output_type": "stream",
          "name": "stdout",
          "text": [
            "Masukkan Nilai ini ya dari skala (1-100): 80\n",
            "B\n"
          ]
        }
      ]
    },
    {
      "cell_type": "code",
      "source": [
        "# Program Rekomendasi Menu Makan Siang\n",
        "\n",
        "tanggal_tua = input(\"Apakah sedang tanggal tua? (Y/N): \").lower()\n",
        "suka_pedas = input(\"Apakah kamu suka pedas? (Y/N): \").lower()\n",
        "\n",
        "if tanggal_tua == \"Y\":\n",
        "    if suka_pedas == \"Y\":\n",
        "        print(\"Rekomendasi: Nasi sambal\")\n",
        "    else:\n",
        "        print(\"Rekomendasi: Nasi kecap\")\n",
        "elif tanggal_tua == \"N\":\n",
        "    if suka_pedas == \"Y\":\n",
        "        print(\"Rekomendasi: Nasi rica-rica iga sapi\")\n",
        "    else:\n",
        "        print(\"Rekomendasi: Nasi ayam kecap\")\n",
        "else:\n",
        "    print(\"Input tidak dikenali.\")\n"
      ],
      "metadata": {
        "id": "BBDWHWj-8lBI",
        "colab": {
          "base_uri": "https://localhost:8080/"
        },
        "outputId": "18fef0d9-1bb7-481a-c5a6-5ad5aab95c6c"
      },
      "execution_count": null,
      "outputs": [
        {
          "output_type": "stream",
          "name": "stdout",
          "text": [
            "Apakah sedang tanggal tua? (Y/N): N\n",
            "Apakah kamu suka pedas? (Y/N): N\n",
            "Input tidak dikenali.\n"
          ]
        }
      ]
    },
    {
      "cell_type": "markdown",
      "source": [
        "IPS >> SKS"
      ],
      "metadata": {
        "id": "YXdcefjHBczq"
      }
    },
    {
      "cell_type": "code",
      "source": [
        "\n",
        "ips = float(input(\"Masukkan IPS Kamu: \"))\n",
        "\n",
        "if 3.0 <= ips <= 4.0:\n",
        "    sks = 24\n",
        "elif 2.4 <= ips <= 3.0:\n",
        "    sks = 22\n",
        "elif 1.8 <= ips <= 2.3:\n",
        "    sks = 18\n",
        "else:\n",
        "    sks = 15\n",
        "\n",
        "print(f\"Berdasarkan IPS kamu semester kemarin, Kamu  mendapatkan {sks} SKS\")"
      ],
      "metadata": {
        "id": "syIRTWff_akd",
        "colab": {
          "base_uri": "https://localhost:8080/"
        },
        "outputId": "26cbd19a-6907-4344-81a4-b9ba17fced79"
      },
      "execution_count": null,
      "outputs": [
        {
          "output_type": "stream",
          "name": "stdout",
          "text": [
            "Masukkan IPS Kamu: 3.34\n",
            "Berdasarkan IPS kamu semester kemarin, Kamu  mendapatkan 24 SKS\n"
          ]
        }
      ]
    },
    {
      "cell_type": "code",
      "source": [
        "jawaban = input(\"Siapa suami dari Raisa?\\nA. Jokowi\\nB. Keenan\\nC. Hamish\\n\")\n",
        "\n",
        "if jawaban == 'C':\n",
        "    print(\"Jawaban kamu benar! Selamatt \")\n",
        "else:\n",
        "    print(\"Jawaban kamu salah. Wlee\")\n"
      ],
      "metadata": {
        "id": "-uz7ldE3B00n",
        "colab": {
          "base_uri": "https://localhost:8080/"
        },
        "outputId": "4cd47908-1d9e-4638-ce36-ad6da2486f39"
      },
      "execution_count": null,
      "outputs": [
        {
          "output_type": "stream",
          "name": "stdout",
          "text": [
            "Siapa suami dari Raisa?\n",
            "A. Jokowi\n",
            "B. Keenan\n",
            "C. Hamish\n",
            "C\n",
            "Jawaban kamu benar! Selamatt \n"
          ]
        }
      ]
    },
    {
      "cell_type": "code",
      "source": [
        "jawaban = input(\"Siapa Suami dari raissa: \\n A. Gibran\\n B. Kaesang\\n C. Hamish\\n\")\n",
        "\n",
        "if jawaban.lower() == 'b':\n",
        "  print(\"Jawaban nya benar\")\n",
        "else :\n",
        "  print(\"jawabannya, salah\")"
      ],
      "metadata": {
        "colab": {
          "base_uri": "https://localhost:8080/"
        },
        "id": "ePWsV2wlNiZu",
        "outputId": "a747320c-552c-4429-f213-03c3e64b8d94"
      },
      "execution_count": null,
      "outputs": [
        {
          "output_type": "stream",
          "name": "stdout",
          "text": [
            "Siapa Suami dari raissa: \n",
            " A. Gibran\n",
            " B. Kaesang\n",
            " C. Hamish\n",
            "B\n",
            "Jawaban nya benar\n"
          ]
        }
      ]
    },
    {
      "cell_type": "code",
      "source": [
        "x = int(input(\"x: \"))\n",
        "y = int(input(\"y: \"))\n",
        "z = int(input(\"z: \"))\n",
        "\n",
        "if y <= x >= z:\n",
        "  print(\"Nilai Max:\", x)\n",
        "elif y >= z:\n",
        "  print(\"Nilai Max:\", y)\n",
        "else:\n",
        "  print(\"Nilai Max:\", z)"
      ],
      "metadata": {
        "colab": {
          "base_uri": "https://localhost:8080/"
        },
        "id": "J-NutpSdF4gE",
        "outputId": "5b789e41-b589-4ebd-f22c-4b898281029a"
      },
      "execution_count": null,
      "outputs": [
        {
          "output_type": "stream",
          "name": "stdout",
          "text": [
            "x: 100\n",
            "y: 13\n",
            "z: 1111\n",
            "Max: 1111\n"
          ]
        }
      ]
    },
    {
      "cell_type": "code",
      "source": [
        "a = int(input())\n",
        "b = int(input())\n",
        "c = int(input())\n",
        "\n",
        "if a == b == c:\n",
        "    print(3)\n",
        "elif a == b or a == c or b == c :\n",
        "    print(2)\n",
        "else:\n",
        "    print(0)"
      ],
      "metadata": {
        "colab": {
          "base_uri": "https://localhost:8080/"
        },
        "id": "_F6rAaeNHsXI",
        "outputId": "2ffc433e-d273-480f-d9f3-43d24c04cacf"
      },
      "execution_count": null,
      "outputs": [
        {
          "output_type": "stream",
          "name": "stdout",
          "text": [
            "4\n",
            "2\n",
            "4\n",
            "2\n"
          ]
        }
      ]
    },
    {
      "cell_type": "markdown",
      "source": [
        "#Tes"
      ],
      "metadata": {
        "id": "5d_3EePER1va"
      }
    },
    {
      "cell_type": "code",
      "source": [
        "angka1 = float(input(\"Masukkan angka pertama: \"))\n",
        "angka2 = float(input(\"Masukkan angka kedua: \"))\n",
        "angka3 = float(input(\"Masukkan angka ketiga: \"))\n",
        "\n",
        "maksimum = angka1\n",
        "\n",
        "if(angka2 > maksimum):\n",
        "  maksimum = angka2\n",
        "\n",
        "if(angka3 > maksimum):\n",
        "  maksimum = angka3\n",
        "\n",
        "print(\"Angka terbesar dari ketiga angka adalah:\",maksimum)"
      ],
      "metadata": {
        "colab": {
          "base_uri": "https://localhost:8080/"
        },
        "id": "Z0n1VZ1Pbc4L",
        "outputId": "7c03f20c-a58b-4403-8c84-bdfdf535471b"
      },
      "execution_count": null,
      "outputs": [
        {
          "output_type": "stream",
          "name": "stdout",
          "text": [
            "Masukkan angka pertama: 100\n",
            "Masukkan angka kedua: 2\n",
            "Masukkan angka ketiga: 50\n",
            "Angka terbesar dari ketiga angka adalah: 100.0\n"
          ]
        }
      ]
    },
    {
      "cell_type": "code",
      "source": [
        "jawaban = input(\"Siapa Suami dari Raisa?\\nA. Hanif\\nB.Keenan\\nC.Hamish\\n\")\n",
        "\n",
        "if jawaban.upper() == 'A':\n",
        "  print(\"Jawaban Benar!\")\n",
        "else:\n",
        "  print(\"Jawabannya Salah :(\")"
      ],
      "metadata": {
        "colab": {
          "base_uri": "https://localhost:8080/"
        },
        "id": "T4AescdVR0YC",
        "outputId": "ff0a3337-0571-42a2-abea-bd37d53a5489"
      },
      "execution_count": null,
      "outputs": [
        {
          "output_type": "stream",
          "name": "stdout",
          "text": [
            "Siapa Suami dari Raisa?\n",
            "A. Hanif\n",
            "B.Keenan\n",
            "C.Hamish\n",
            "a\n",
            "Jawaban Benar!\n"
          ]
        }
      ]
    },
    {
      "cell_type": "code",
      "source": [
        "x = float(input(\"x :\"))\n",
        "y = float(input(\"y :\"))\n",
        "z = float(input(\"z :\"))\n",
        "\n",
        "if x >= y and x >= z:\n",
        "  print(\"Nilai Max :\", x)\n",
        "elif y >= x and y >= z:\n",
        "  print(\"Nilai Max :\", y)\n",
        "else:\n",
        "  print(\"Nilai Max :\",z)"
      ],
      "metadata": {
        "colab": {
          "base_uri": "https://localhost:8080/"
        },
        "id": "m2WalRBHd9hT",
        "outputId": "30c4f41d-2bfd-4ae8-acf9-d39d21559530"
      },
      "execution_count": null,
      "outputs": [
        {
          "output_type": "stream",
          "name": "stdout",
          "text": [
            "x :99.5\n",
            "y :99.4\n",
            "z :99.6\n",
            "Nilai Max : 99.6\n"
          ]
        }
      ]
    },
    {
      "cell_type": "code",
      "source": [
        "A = float(input(\"masukan nilai a\"))\n",
        "B = float (input(\"masukan nilai B\"))\n",
        "C = float (input(\"masukan nilai C\"))\n",
        "\n",
        "if A == B == C:\n",
        "  print (\"nilai yg sama 3\")\n",
        "elif A == B or A == C or B == C:\n",
        "  print (\"Nilai yg sama 2\")\n",
        "else:\n",
        "  print(\"nilai yg sama tidak ada\")"
      ],
      "metadata": {
        "colab": {
          "base_uri": "https://localhost:8080/"
        },
        "id": "DTQyIHe6i9u8",
        "outputId": "bc98c590-e704-41a7-b151-ef13d44f005a"
      },
      "execution_count": null,
      "outputs": [
        {
          "output_type": "stream",
          "name": "stdout",
          "text": [
            "masukan nilai a12\n",
            "masukan nilai B5\n",
            "masukan nilai C12\n",
            "Nilai yg sama 2\n"
          ]
        }
      ]
    },
    {
      "cell_type": "markdown",
      "source": [
        "#Looping"
      ],
      "metadata": {
        "id": "1HGqoo480JOB"
      }
    },
    {
      "cell_type": "markdown",
      "source": [
        "Looping For digunakan untuk\n",
        "\n",
        "Saat jumlah perulangan sudah diketahui dengan pasti.\n",
        "\n",
        "➡ Cocok digunakan untuk mengulang item dalam list, range angka, atau data terstruktur yang jumlahnya diketahui."
      ],
      "metadata": {
        "id": "uq0eK25ggAiM"
      }
    },
    {
      "cell_type": "code",
      "source": [
        "for i in range(3):  # sama dengan range(0, 3) pada tuple, karena indeks pada c/python akan di mulai dari 0\n",
        "    print(\"urutan ke\" , i)"
      ],
      "metadata": {
        "colab": {
          "base_uri": "https://localhost:8080/"
        },
        "id": "jhZtuq4G0LdK",
        "outputId": "90fa1392-e904-45d3-ba67-d5c386fb503a"
      },
      "execution_count": null,
      "outputs": [
        {
          "output_type": "stream",
          "name": "stdout",
          "text": [
            "urutan ke 0\n",
            "urutan ke 1\n",
            "urutan ke 2\n"
          ]
        }
      ]
    },
    {
      "cell_type": "markdown",
      "source": [
        "Contoh dibawah merukapan penggunaan looping while dan menggunakan Continue If\n",
        "dan continue digunakan untuk melanjutkan iterasi jika kondisi looping terpenuhi"
      ],
      "metadata": {
        "id": "zv0D5OyJndzT"
      }
    },
    {
      "cell_type": "code",
      "source": [
        "counter = 0                    # Inisialisasi variabel counter dengan nilai 0\n",
        "while counter < 3:             # Perulangan while akan berjalan selama counter kurang dari 3\n",
        "  counter = counter + 1        # Menambahkan 1 ke nilai counter setiap iterasi\n",
        "  if counter == 1:             # Jika counter bernilai 1\n",
        "    continue                   # Lewatkan sisa kode dalam iterasi ini dan lanjut ke iterasi berikutnya\n",
        "  print(\"inside the counter:\", counter)  # Dicetak hanya jika counter bukan 1 (yaitu saat 2 dan 3)\n",
        "print(\"After while loop\")      # Dicetak setelah perulangan while selesai"
      ],
      "metadata": {
        "id": "Y2arXg9Z0bra",
        "colab": {
          "base_uri": "https://localhost:8080/"
        },
        "outputId": "8cd2f6d2-836f-41c2-a2c6-8239b19041c6"
      },
      "execution_count": null,
      "outputs": [
        {
          "output_type": "stream",
          "name": "stdout",
          "text": [
            "inside the counter: 2\n",
            "inside the counter: 3\n",
            "After while loop\n"
          ]
        }
      ]
    },
    {
      "cell_type": "markdown",
      "source": [
        "Contoh dibawah merukapan penggunaan looping while dan menggunakan Continue If dan Break sebagai penanda untuk berhenti"
      ],
      "metadata": {
        "id": "hM7duLRvoACe"
      }
    },
    {
      "cell_type": "code",
      "source": [
        "counter = 0                             # Awalinnya counter diset ke 0\n",
        "while counter < 3:                      # Selama counter masih kurang dari 3, loop jalan terus\n",
        "  print(\"inside the counter\", counter) # Nampilin nilai counter di setiap iterasi\n",
        "  if counter == 1:                      # Kalau counter udah nyampe 1\n",
        "    break                               # Langsung keluar dari while loop, ga lanjut lagi\n",
        "  counter = counter + 2                # Naikin nilai counter sebanyak 1\n",
        "print(\"After while loop   \")           # Ini muncul setelah keluar dari loop"
      ],
      "metadata": {
        "colab": {
          "base_uri": "https://localhost:8080/"
        },
        "id": "83pFGdoa326s",
        "outputId": "6230da8b-aa2b-4bc7-a6af-98840debe85a"
      },
      "execution_count": null,
      "outputs": [
        {
          "output_type": "stream",
          "name": "stdout",
          "text": [
            "inside the counter 0\n",
            "inside the counter 2\n",
            "After while loop   \n"
          ]
        }
      ]
    },
    {
      "cell_type": "markdown",
      "source": [
        "Contoh dibawah merukapan penggunaan looping while dan menggunakan Continue If Else dan Break sebagai penanda untuk berhenti"
      ],
      "metadata": {
        "id": "8JRTUMAAoZq3"
      }
    },
    {
      "cell_type": "code",
      "source": [
        "# tugas 1\n",
        "password_benar = \"mar1ngod1ngpython!\"\n",
        "# Menyimpan password yang benar dalam variabel\n",
        "while True:                             # Loop tak terbatas, akan terus berjalan sampai di-break\n",
        "  password = input(\"Masukkan password: \")  # minta input password dari pengguna\n",
        "  if password == password_benar:           # jika password yang dimasukkan cocok\n",
        "        print(\"OK! :)\")                      # tampilkan pesan sukses\n",
        "        break                                # keluar dari loop\n",
        "  else:\n",
        "        print(\"That's not the right password :(\")  # Jika salah, beri tahu user dan ulangi"
      ],
      "metadata": {
        "colab": {
          "base_uri": "https://localhost:8080/"
        },
        "id": "M6Ig_3pk5UXW",
        "outputId": "8ab01cf2-7a28-4668-b19a-c1b1b85db2e6"
      },
      "execution_count": null,
      "outputs": [
        {
          "output_type": "stream",
          "name": "stdout",
          "text": [
            "Masukkan password: mar1ngod1ngpython\n",
            "That's not the right password :(\n",
            "Masukkan password: mar1ngod1ngpython!\n",
            "OK! :)\n"
          ]
        }
      ]
    },
    {
      "cell_type": "code",
      "source": [
        "# tugas 2\n",
        "\n",
        "while True:  # Loop tak terbatas, akan terus berjalan sampai di-break secara eksplisit\n",
        "    answer = input(\"Which is the best Subject? \")  # Minta input dari user\n",
        "    if answer == \"computer science\":\n",
        "        # kalo jawaban user adalah 'computer science' (dalam bentuk apa pun)\n",
        "        print(\"Of course it is!\")  # Cetak respons benar\n",
        "        break                      # Keluar dari loop\n",
        "    else:\n",
        "        print(\"Try again\")  # kalo salah, kasih tahu dan ulangi pertanyaan"
      ],
      "metadata": {
        "id": "F81ktT-75WKU",
        "colab": {
          "base_uri": "https://localhost:8080/"
        },
        "outputId": "da4e1f09-4e99-438e-ef72-d8aea088277d"
      },
      "execution_count": null,
      "outputs": [
        {
          "output_type": "stream",
          "name": "stdout",
          "text": [
            "Which is the best Subject? computer science\n",
            "Of course it is!\n"
          ]
        }
      ]
    },
    {
      "cell_type": "code",
      "source": [
        "# tugas 3\n",
        "count = 0       # Menghitung berapa banyak angka genap yang sudah dimasukkan\n",
        "jumlah = 0      # Menyimpan jumlah total angka genap yang berhasil dimasukkan\n",
        "while count < 3:                               # Loop berjalan sampai 3 angka genap diterima\n",
        "    angka = int(input(\"Masukkan angka genap: \"))  # Meminta input dari user, lalu diubah ke integer\n",
        "    if angka % 2 != 0:     # Jika angka tidak habis dibagi 2 (berarti ganjil)\n",
        "        continue           # Lewati iterasi ini dan kembali ke awal loop\n",
        "    jumlah += 1            # Tambahkan 1 ke variabel jumlah jika angka genap\n",
        "    count += 1             # Tambahkan 1 ke counter agar tahu sudah berapa angka genap yang diterima\n",
        "    print(\"Jumlah sampai saat ini:\", jumlah)  # Tampilkan jumlah sementara"
      ],
      "metadata": {
        "colab": {
          "base_uri": "https://localhost:8080/"
        },
        "id": "pTMprTWf5fFb",
        "outputId": "28fa7082-3bcf-4dee-d4a8-3942a20f8529"
      },
      "execution_count": null,
      "outputs": [
        {
          "output_type": "stream",
          "name": "stdout",
          "text": [
            "Masukkan angka genap: 2\n",
            "Jumlah sampai saat ini: 1\n",
            "Masukkan angka genap: 2\n",
            "Jumlah sampai saat ini: 2\n",
            "Masukkan angka genap: 2\n",
            "Jumlah sampai saat ini: 3\n"
          ]
        }
      ]
    },
    {
      "cell_type": "code",
      "source": [
        "import matplotlib.pyplot as plt\n",
        "from sklearn.metrics import roc_curve, auc\n",
        "\n",
        "# Data probabilitas dan label\n",
        "probs = [0.9, 0.4, 0.7, 0.8,  # positif\n",
        "         0.1, 0.7, 0.2, 0.3, 0.2, 0.5, 0.3, 0.6]  # negatif\n",
        "\n",
        "labels = [1, 1, 1, 1,  # 4 positif\n",
        "          0, 0, 0, 0, 0, 0, 0, 0]  # 8 negatif\n",
        "\n",
        "# Hitung nilai FPR, TPR dari sklearn\n",
        "fpr, tpr, thresholds = roc_curve(labels, probs)\n",
        "\n",
        "# Hitung Area Under Curve (AUC)\n",
        "roc_auc = auc(fpr, tpr)\n",
        "\n",
        "# Plot ROC Curve\n",
        "plt.figure(figsize=(8,6))\n",
        "plt.plot(fpr, tpr, color='blue', lw=2, label=f'ROC curve (AUC = {roc_auc:.2f})')\n",
        "plt.plot([0, 1], [0, 1], color='grey', linestyle='--', label='Random classifier')\n",
        "plt.scatter(fpr, tpr, color='red')  # titik-titik threshold\n",
        "plt.xlabel('False Positive Rate')\n",
        "plt.ylabel('True Positive Rate')\n",
        "plt.title('ROC Curve - Custom Data')\n",
        "plt.legend(loc='lower right')\n",
        "plt.grid(True)\n",
        "plt.show()\n"
      ],
      "metadata": {
        "colab": {
          "base_uri": "https://localhost:8080/",
          "height": 564
        },
        "id": "5-u0zBPeJnFJ",
        "outputId": "56709447-a642-40ac-ad9f-c590a61bfdad"
      },
      "execution_count": null,
      "outputs": [
        {
          "output_type": "display_data",
          "data": {
            "text/plain": [
              "<Figure size 800x600 with 1 Axes>"
            ],
            "image/png": "[encoded data removed]"
          },
          "metadata": {}
        }
      ]
    },
    {
      "cell_type": "code",
      "source": [
        "import numpy as np\n",
        "import matplotlib.pyplot as plt\n",
        "\n",
        "# Fungsi dan turunannya\n",
        "def E(w):\n",
        "    return np.log(w) / np.log(2)  # log base 2\n",
        "\n",
        "def dE_dw(w):\n",
        "    return 1 / (w * np.log(2))\n",
        "\n",
        "# Inisialisasi awal\n",
        "w0 = 2\n",
        "eta_small = 0.1\n",
        "eta_large = 2\n",
        "epochs = 2\n",
        "\n",
        "# Simulasi η = 0.1\n",
        "w_small = [w0]\n",
        "w = w0\n",
        "for _ in range(epochs):\n",
        "    grad = dE_dw(w)\n",
        "    w = w - eta_small * grad\n",
        "    w_small.append(w)\n",
        "\n",
        "# Simulasi η = 2\n",
        "w_large = [w0]\n",
        "w = w0\n",
        "for _ in range(epochs):\n",
        "    grad = dE_dw(w)\n",
        "    w = w - eta_large * grad\n",
        "    w_large.append(w)\n",
        "\n",
        "# Plot fungsi E(w)\n",
        "w_vals = np.linspace(0.1, 3, 500)\n",
        "E_vals = E(w_vals)\n",
        "\n",
        "plt.figure(figsize=(12, 8))\n",
        "plt.plot(w_vals, E_vals, label=\"E(w) = log₂(w)\", color='black')\n",
        "\n",
        "# Visualisasi η = 0.1 (biru)\n",
        "for i in range(epochs):\n",
        "    x_vals = [w_small[i], w_small[i+1]]\n",
        "    y_vals = [E(w_small[i]), E(w_small[i+1])]\n",
        "    plt.plot(x_vals, y_vals, marker='o', color='blue', label='η = 0.1' if i == 0 else \"\")\n",
        "    plt.annotate(\n",
        "        f\"Epoch {i+1}\\nw={w_small[i+1]:.4f}\\nE={E(w_small[i+1]):.4f}\",\n",
        "        (x_vals[1], y_vals[1]),\n",
        "        textcoords=\"offset points\",\n",
        "        xytext=(-50, 40 - 25*i),  # atur offset bertingkat\n",
        "        ha='center',\n",
        "        fontsize=9,\n",
        "        color='blue',\n",
        "        bbox=dict(boxstyle=\"round,pad=0.3\", fc=\"white\", ec=\"blue\")\n",
        "    )\n",
        "\n",
        "# Visualisasi η = 2 (merah)\n",
        "for i in range(epochs):\n",
        "    x_vals = [w_large[i], w_large[i+1]]\n",
        "    if w_large[i+1] > 0:\n",
        "        y_vals = [E(w_large[i]), E(w_large[i+1])]\n",
        "        plt.plot(x_vals, y_vals, marker='o', color='red', label='η = 2' if i == 0 else \"\")\n",
        "        plt.annotate(\n",
        "            f\"Epoch {i+1}\\nw={w_large[i+1]:.4f}\\nE={E(w_large[i+1]):.4f}\",\n",
        "            (x_vals[1], y_vals[1]),\n",
        "            textcoords=\"offset points\",\n",
        "            xytext=(50, -30 - 20*i),  # offset ke kanan dan bawah\n",
        "            ha='center',\n",
        "            fontsize=9,\n",
        "            color='red',\n",
        "            bbox=dict(boxstyle=\"round,pad=0.3\", fc=\"white\", ec=\"red\")\n",
        "        )\n",
        "    else:\n",
        "        # titik divergen (keluar domain log)\n",
        "        y_val = E(w_large[i])\n",
        "        plt.plot([w_large[i]], [y_val], marker='o', color='red', label='η = 2 (diverged)' if i == 0 else \"\")\n",
        "        plt.annotate(\n",
        "            f\"Epoch {i+1}\\nDiverged\",\n",
        "            (w_large[i], y_val),\n",
        "            textcoords=\"offset points\",\n",
        "            xytext=(50, -40),\n",
        "            ha='center',\n",
        "            fontsize=9,\n",
        "            color='red',\n",
        "            bbox=dict(boxstyle=\"round,pad=0.3\", fc=\"white\", ec=\"red\")\n",
        "        )\n",
        "\n",
        "# Atur tampilan plot\n",
        "plt.axvline(0, color='gray', linestyle='--')\n",
        "plt.xlabel(\"w\", fontsize=12)\n",
        "plt.ylabel(\"E(w) = log₂(w)\", fontsize=12)\n",
        "plt.title(\"Visualisasi Gradient Descent pada E(w) = log₂(w)\", fontsize=14)\n",
        "plt.legend()\n",
        "plt.grid(True)\n",
        "plt.xlim(0, 3)\n",
        "plt.ylim(-2, 2.5)\n",
        "plt.tight_layout()\n",
        "plt.show()\n"
      ],
      "metadata": {
        "colab": {
          "base_uri": "https://localhost:8080/",
          "height": 807
        },
        "id": "dlmfsgSmLc98",
        "outputId": "ab089906-4fc7-4187-9f8f-e5d53a0c4991"
      },
      "execution_count": null,
      "outputs": [
        {
          "output_type": "display_data",
          "data": {
            "text/plain": [
              "<Figure size 1200x800 with 1 Axes>"
            ],
            "image/png": "[encoded data removed]"
          },
          "metadata": {}
        }
      ]
    },
    {
      "cell_type": "code",
      "source": [
        "import matplotlib.pyplot as plt\n",
        "from sklearn.metrics import roc_curve, auc\n",
        "\n",
        "# Data model\n",
        "y_scores = [0.9, 0.4, 0.7, 0.8, 0.1, 0.7, 0.2, 0.3, 0.2, 0.5, 0.3, 0.6]\n",
        "y_true =    [1,   1,   1,   1,   0,   0,   0,   0,   0,   0,   0,   0]\n",
        "\n",
        "# Hitung ROC dan AUC\n",
        "fpr, tpr, thresholds = roc_curve(y_true, y_scores)\n",
        "roc_auc = auc(fpr, tpr)\n",
        "\n",
        "# Titik-titik threshold manual: 0.00, 0.25, 0.45, 0.65, 1.00\n",
        "manual_thresholds = [0.00, 0.25, 0.45, 0.65, 1.00]\n",
        "manual_points = [\n",
        "    (1.00, 1.00, 'T=0.00'),\n",
        "    (0.625, 1.00, 'T=0.25'),\n",
        "    (0.375, 0.75, 'T=0.45'),\n",
        "    (0.125, 0.75, 'T=0.65'),\n",
        "    (0.00, 0.00, 'T=1.00')\n",
        "]\n",
        "\n",
        "# Plot ROC curve\n",
        "plt.figure(figsize=(10, 7))\n",
        "plt.plot(fpr, tpr, color='blue', lw=2, label=f'ROC Curve (AUC = {roc_auc:.2f})')\n",
        "plt.plot([0, 1], [0, 1], color='gray', linestyle='--', label='Random Guess')\n",
        "\n",
        "# Plot titik-titik manual dan anotasinya\n",
        "for x, y, label in manual_points:\n",
        "    plt.scatter(x, y, color='red')\n",
        "    plt.text(x + 0.02, y - 0.05, label, fontsize=10, color='black')\n",
        "\n",
        "plt.xlabel('False Positive Rate (FPR)')\n",
        "plt.ylabel('True Positive Rate (TPR / Recall)')\n",
        "plt.title('ROC Curve dengan Anotasi Threshold')\n",
        "plt.legend(loc='lower right')\n",
        "plt.grid(True)\n",
        "plt.tight_layout()\n",
        "plt.show()\n"
      ],
      "metadata": {
        "colab": {
          "base_uri": "https://localhost:8080/",
          "height": 707
        },
        "id": "jmptgb9A47V_",
        "outputId": "e7552735-040c-42b1-831a-ab59a7ad51df"
      },
      "execution_count": null,
      "outputs": [
        {
          "output_type": "display_data",
          "data": {
            "text/plain": [
              "<Figure size 1000x700 with 1 Axes>"
            ],
            "image/png": "[encoded data removed]"
          },
          "metadata": {}
        }
      ]
    }
  ]
}